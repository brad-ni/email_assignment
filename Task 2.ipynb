{
 "cells": [
  {
   "cell_type": "code",
   "execution_count": 1,
   "id": "5fbf945d",
   "metadata": {},
   "outputs": [],
   "source": [
    "import pandas as pd\n",
    "import numpy as np\n",
    "import xgboost as xgb\n",
    "import seaborn as sns\n",
    "import matplotlib.pyplot as plt\n",
    "\n",
    "from sklearn.metrics import confusion_matrix, mean_squared_error, f1_score, ConfusionMatrixDisplay, accuracy_score, classification_report\n",
    "from sklearn.tree import DecisionTreeClassifier\n",
    "from sklearn.ensemble import RandomForestClassifier\n",
    "from sklearn.model_selection import train_test_split\n",
    "from sklearn.linear_model import LogisticRegression\n",
    "from sklearn.preprocessing import StandardScaler\n",
    "\n"
   ]
  },
  {
   "cell_type": "markdown",
   "id": "0b5f8f1d",
   "metadata": {},
   "source": [
    "Installing and calling the necessary libraries. "
   ]
  },
  {
   "cell_type": "code",
   "execution_count": 2,
   "id": "ffde8fc7",
   "metadata": {},
   "outputs": [],
   "source": [
    "df_test = pd.read_csv(\"test.csv\")\n",
    "df_train = pd.read_csv(\"train.csv\")"
   ]
  },
  {
   "cell_type": "markdown",
   "id": "4277c169",
   "metadata": {},
   "source": [
    "Importing the training and testing data. "
   ]
  },
  {
   "cell_type": "code",
   "execution_count": 3,
   "id": "317eae9d",
   "metadata": {},
   "outputs": [
    {
     "data": {
      "text/plain": [
       "id                 0\n",
       "CustomerId         0\n",
       "Surname            0\n",
       "CreditScore        0\n",
       "Geography          0\n",
       "Gender             0\n",
       "Age                0\n",
       "Tenure             0\n",
       "Balance            0\n",
       "NumOfProducts      0\n",
       "HasCrCard          0\n",
       "IsActiveMember     0\n",
       "EstimatedSalary    0\n",
       "Exited             0\n",
       "dtype: int64"
      ]
     },
     "execution_count": 3,
     "metadata": {},
     "output_type": "execute_result"
    }
   ],
   "source": [
    "df_train.isnull().sum()"
   ]
  },
  {
   "cell_type": "markdown",
   "id": "b8232ee9",
   "metadata": {},
   "source": [
    "Checking for missing values."
   ]
  },
  {
   "cell_type": "code",
   "execution_count": 4,
   "id": "88862527",
   "metadata": {},
   "outputs": [
    {
     "data": {
      "text/html": [
       "<div>\n",
       "<style scoped>\n",
       "    .dataframe tbody tr th:only-of-type {\n",
       "        vertical-align: middle;\n",
       "    }\n",
       "\n",
       "    .dataframe tbody tr th {\n",
       "        vertical-align: top;\n",
       "    }\n",
       "\n",
       "    .dataframe thead th {\n",
       "        text-align: right;\n",
       "    }\n",
       "</style>\n",
       "<table border=\"1\" class=\"dataframe\">\n",
       "  <thead>\n",
       "    <tr style=\"text-align: right;\">\n",
       "      <th></th>\n",
       "      <th>id</th>\n",
       "      <th>CustomerId</th>\n",
       "      <th>CreditScore</th>\n",
       "      <th>Age</th>\n",
       "      <th>Tenure</th>\n",
       "      <th>Balance</th>\n",
       "      <th>NumOfProducts</th>\n",
       "      <th>HasCrCard</th>\n",
       "      <th>IsActiveMember</th>\n",
       "      <th>EstimatedSalary</th>\n",
       "      <th>Exited</th>\n",
       "    </tr>\n",
       "  </thead>\n",
       "  <tbody>\n",
       "    <tr>\n",
       "      <th>count</th>\n",
       "      <td>165034.0000</td>\n",
       "      <td>1.650340e+05</td>\n",
       "      <td>165034.000000</td>\n",
       "      <td>165034.000000</td>\n",
       "      <td>165034.000000</td>\n",
       "      <td>165034.000000</td>\n",
       "      <td>165034.000000</td>\n",
       "      <td>165034.000000</td>\n",
       "      <td>165034.000000</td>\n",
       "      <td>165034.000000</td>\n",
       "      <td>165034.000000</td>\n",
       "    </tr>\n",
       "    <tr>\n",
       "      <th>mean</th>\n",
       "      <td>82516.5000</td>\n",
       "      <td>1.569201e+07</td>\n",
       "      <td>656.454373</td>\n",
       "      <td>38.125888</td>\n",
       "      <td>5.020353</td>\n",
       "      <td>55478.086689</td>\n",
       "      <td>1.554455</td>\n",
       "      <td>0.753954</td>\n",
       "      <td>0.497770</td>\n",
       "      <td>112574.822734</td>\n",
       "      <td>0.211599</td>\n",
       "    </tr>\n",
       "    <tr>\n",
       "      <th>std</th>\n",
       "      <td>47641.3565</td>\n",
       "      <td>7.139782e+04</td>\n",
       "      <td>80.103340</td>\n",
       "      <td>8.867205</td>\n",
       "      <td>2.806159</td>\n",
       "      <td>62817.663278</td>\n",
       "      <td>0.547154</td>\n",
       "      <td>0.430707</td>\n",
       "      <td>0.499997</td>\n",
       "      <td>50292.865585</td>\n",
       "      <td>0.408443</td>\n",
       "    </tr>\n",
       "    <tr>\n",
       "      <th>min</th>\n",
       "      <td>0.0000</td>\n",
       "      <td>1.556570e+07</td>\n",
       "      <td>350.000000</td>\n",
       "      <td>18.000000</td>\n",
       "      <td>0.000000</td>\n",
       "      <td>0.000000</td>\n",
       "      <td>1.000000</td>\n",
       "      <td>0.000000</td>\n",
       "      <td>0.000000</td>\n",
       "      <td>11.580000</td>\n",
       "      <td>0.000000</td>\n",
       "    </tr>\n",
       "    <tr>\n",
       "      <th>25%</th>\n",
       "      <td>41258.2500</td>\n",
       "      <td>1.563314e+07</td>\n",
       "      <td>597.000000</td>\n",
       "      <td>32.000000</td>\n",
       "      <td>3.000000</td>\n",
       "      <td>0.000000</td>\n",
       "      <td>1.000000</td>\n",
       "      <td>1.000000</td>\n",
       "      <td>0.000000</td>\n",
       "      <td>74637.570000</td>\n",
       "      <td>0.000000</td>\n",
       "    </tr>\n",
       "    <tr>\n",
       "      <th>50%</th>\n",
       "      <td>82516.5000</td>\n",
       "      <td>1.569017e+07</td>\n",
       "      <td>659.000000</td>\n",
       "      <td>37.000000</td>\n",
       "      <td>5.000000</td>\n",
       "      <td>0.000000</td>\n",
       "      <td>2.000000</td>\n",
       "      <td>1.000000</td>\n",
       "      <td>0.000000</td>\n",
       "      <td>117948.000000</td>\n",
       "      <td>0.000000</td>\n",
       "    </tr>\n",
       "    <tr>\n",
       "      <th>75%</th>\n",
       "      <td>123774.7500</td>\n",
       "      <td>1.575682e+07</td>\n",
       "      <td>710.000000</td>\n",
       "      <td>42.000000</td>\n",
       "      <td>7.000000</td>\n",
       "      <td>119939.517500</td>\n",
       "      <td>2.000000</td>\n",
       "      <td>1.000000</td>\n",
       "      <td>1.000000</td>\n",
       "      <td>155152.467500</td>\n",
       "      <td>0.000000</td>\n",
       "    </tr>\n",
       "    <tr>\n",
       "      <th>max</th>\n",
       "      <td>165033.0000</td>\n",
       "      <td>1.581569e+07</td>\n",
       "      <td>850.000000</td>\n",
       "      <td>92.000000</td>\n",
       "      <td>10.000000</td>\n",
       "      <td>250898.090000</td>\n",
       "      <td>4.000000</td>\n",
       "      <td>1.000000</td>\n",
       "      <td>1.000000</td>\n",
       "      <td>199992.480000</td>\n",
       "      <td>1.000000</td>\n",
       "    </tr>\n",
       "  </tbody>\n",
       "</table>\n",
       "</div>"
      ],
      "text/plain": [
       "                id    CustomerId    CreditScore            Age         Tenure  \\\n",
       "count  165034.0000  1.650340e+05  165034.000000  165034.000000  165034.000000   \n",
       "mean    82516.5000  1.569201e+07     656.454373      38.125888       5.020353   \n",
       "std     47641.3565  7.139782e+04      80.103340       8.867205       2.806159   \n",
       "min         0.0000  1.556570e+07     350.000000      18.000000       0.000000   \n",
       "25%     41258.2500  1.563314e+07     597.000000      32.000000       3.000000   \n",
       "50%     82516.5000  1.569017e+07     659.000000      37.000000       5.000000   \n",
       "75%    123774.7500  1.575682e+07     710.000000      42.000000       7.000000   \n",
       "max    165033.0000  1.581569e+07     850.000000      92.000000      10.000000   \n",
       "\n",
       "             Balance  NumOfProducts      HasCrCard  IsActiveMember  \\\n",
       "count  165034.000000  165034.000000  165034.000000   165034.000000   \n",
       "mean    55478.086689       1.554455       0.753954        0.497770   \n",
       "std     62817.663278       0.547154       0.430707        0.499997   \n",
       "min         0.000000       1.000000       0.000000        0.000000   \n",
       "25%         0.000000       1.000000       1.000000        0.000000   \n",
       "50%         0.000000       2.000000       1.000000        0.000000   \n",
       "75%    119939.517500       2.000000       1.000000        1.000000   \n",
       "max    250898.090000       4.000000       1.000000        1.000000   \n",
       "\n",
       "       EstimatedSalary         Exited  \n",
       "count    165034.000000  165034.000000  \n",
       "mean     112574.822734       0.211599  \n",
       "std       50292.865585       0.408443  \n",
       "min          11.580000       0.000000  \n",
       "25%       74637.570000       0.000000  \n",
       "50%      117948.000000       0.000000  \n",
       "75%      155152.467500       0.000000  \n",
       "max      199992.480000       1.000000  "
      ]
     },
     "execution_count": 4,
     "metadata": {},
     "output_type": "execute_result"
    }
   ],
   "source": [
    "df_train.describe()"
   ]
  },
  {
   "cell_type": "markdown",
   "id": "7201368a",
   "metadata": {},
   "source": [
    "The summary statistics of the training dataset shows that the features: HasCrCard, IsActiveMember and Exited are all binary."
   ]
  },
  {
   "cell_type": "code",
   "execution_count": 5,
   "id": "1771d65f",
   "metadata": {},
   "outputs": [],
   "source": [
    "Y = [\"Exited\"]\n",
    "X = [\"CreditScore\", \"Age\", \"Tenure\", \"Balance\", \"NumOfProducts\", \"HasCrCard\", \"IsActiveMember\", \"EstimatedSalary\"]\n",
    "x_train, x_test, y_train, y_test = train_test_split(df_train[X], df_train[Y], test_size = 0.2, random_state = 7)"
   ]
  },
  {
   "cell_type": "markdown",
   "id": "fc810f4a",
   "metadata": {},
   "source": [
    "Spliting the training set into a seperate testing and training set in order to evaluate the model. \n",
    "The training data was split into 20-80."
   ]
  },
  {
   "cell_type": "markdown",
   "id": "ceed8571",
   "metadata": {},
   "source": [
    "Since our outcome is binary, ML methods such as Decision Trees, Random Forest, Boosted Tree and Logistic Regression would be suitible for building the model. "
   ]
  },
  {
   "cell_type": "code",
   "execution_count": 6,
   "id": "6a706816",
   "metadata": {},
   "outputs": [
    {
     "name": "stderr",
     "output_type": "stream",
     "text": [
      "C:\\Users\\Computer\\anaconda3\\Lib\\site-packages\\sklearn\\linear_model\\_logistic.py:469: ConvergenceWarning: lbfgs failed to converge (status=1):\n",
      "STOP: TOTAL NO. of ITERATIONS REACHED LIMIT.\n",
      "\n",
      "Increase the number of iterations (max_iter) or scale the data as shown in:\n",
      "    https://scikit-learn.org/stable/modules/preprocessing.html\n",
      "Please also refer to the documentation for alternative solver options:\n",
      "    https://scikit-learn.org/stable/modules/linear_model.html#logistic-regression\n",
      "  n_iter_i = _check_optimize_result(\n"
     ]
    }
   ],
   "source": [
    "# Logistic Regression\n",
    "log = LogisticRegression()\n",
    "\n",
    "log.fit(x_train, np.ravel(y_train))\n",
    "preds_log = log.predict(x_test)"
   ]
  },
  {
   "cell_type": "code",
   "execution_count": 7,
   "id": "b5f5bcfb",
   "metadata": {},
   "outputs": [
    {
     "data": {
      "text/plain": [
       "0.211621777198776"
      ]
     },
     "execution_count": 7,
     "metadata": {},
     "output_type": "execute_result"
    }
   ],
   "source": [
    "log_mse = mean_squared_error(y_test, preds_log)\n",
    "log_mse"
   ]
  },
  {
   "cell_type": "markdown",
   "id": "d8474979",
   "metadata": {},
   "source": [
    "However, from the summary statistics, we see that features such as CreditScore, Age, Balance, and EstimatedSalary have very wide ranges. \n",
    "\n",
    "Thus, the performance would improve if we scale these features such that their values become more uniform. "
   ]
  },
  {
   "cell_type": "code",
   "execution_count": 8,
   "id": "f8a6c00e",
   "metadata": {},
   "outputs": [],
   "source": [
    "# Feature Scaling\n",
    "scale = StandardScaler()\n",
    "\n",
    "x_train_scale = scale.fit_transform(x_train)\n",
    "x_test_scale = scale.transform(x_test)"
   ]
  },
  {
   "cell_type": "code",
   "execution_count": 9,
   "id": "c4c5fafd",
   "metadata": {},
   "outputs": [],
   "source": [
    "# Logistic Regression on Scaled Features\n",
    "\n",
    "log.fit(x_train_scale, np.ravel(y_train)) \n",
    "preds_log_scale = log.predict(x_test_scale)"
   ]
  },
  {
   "cell_type": "code",
   "execution_count": 10,
   "id": "dd01e3fa",
   "metadata": {},
   "outputs": [
    {
     "data": {
      "text/plain": [
       "0.1767200896779471"
      ]
     },
     "execution_count": 10,
     "metadata": {},
     "output_type": "execute_result"
    }
   ],
   "source": [
    "# MSE of Scaled Logistic Regression\n",
    "log_scale_mse = mean_squared_error(y_test, preds_log_scale)\n",
    "log_scale_mse"
   ]
  },
  {
   "cell_type": "code",
   "execution_count": 11,
   "id": "a351a710",
   "metadata": {},
   "outputs": [],
   "source": [
    "# Decision Tree\n",
    "dc_tree = DecisionTreeClassifier(random_state = 7)\n",
    "\n",
    "dc_tree.fit(x_train, y_train)\n",
    "preds_dc_tree = dc_tree.predict(x_test)\n"
   ]
  },
  {
   "cell_type": "code",
   "execution_count": 12,
   "id": "fc23949a",
   "metadata": {},
   "outputs": [
    {
     "data": {
      "text/plain": [
       "0.21862029266519223"
      ]
     },
     "execution_count": 12,
     "metadata": {},
     "output_type": "execute_result"
    }
   ],
   "source": [
    "# MSE of Decision Tree Model\n",
    "dc_tree_mse = mean_squared_error(y_test, preds_dc_tree)\n",
    "dc_tree_mse"
   ]
  },
  {
   "cell_type": "code",
   "execution_count": 13,
   "id": "e9110c18",
   "metadata": {},
   "outputs": [],
   "source": [
    "# Random Forest\n",
    "rf = RandomForestClassifier(random_state = 7)\n",
    "\n",
    "rf = rf.fit(x_train, np.ravel(y_train))\n",
    "preds_rf = rf.predict(x_test)\n"
   ]
  },
  {
   "cell_type": "code",
   "execution_count": 14,
   "id": "10dbb7b0",
   "metadata": {},
   "outputs": [
    {
     "data": {
      "text/plain": [
       "0.15118005271609053"
      ]
     },
     "execution_count": 14,
     "metadata": {},
     "output_type": "execute_result"
    }
   ],
   "source": [
    "rf_mse = mean_squared_error(y_test, preds_rf)\n",
    "rf_mse"
   ]
  },
  {
   "cell_type": "code",
   "execution_count": 15,
   "id": "814550fe",
   "metadata": {},
   "outputs": [],
   "source": [
    "# Boosted Tree\n",
    "xgb_tree = xgb.XGBClassifier(objective = \"binary:logistic\")\n",
    "\n",
    "xgb_tree.fit(x_train, y_train)\n",
    "xgb_tree_preds = xgb_tree.predict(x_test)"
   ]
  },
  {
   "cell_type": "code",
   "execution_count": 16,
   "id": "c1462e4d",
   "metadata": {},
   "outputs": [
    {
     "data": {
      "text/plain": [
       "0.14572666404096102"
      ]
     },
     "execution_count": 16,
     "metadata": {},
     "output_type": "execute_result"
    }
   ],
   "source": [
    "# MSE of Boosted Tree\n",
    "xgb_tree_mse = mean_squared_error(y_test, xgb_tree_preds)\n",
    "xgb_tree_mse"
   ]
  },
  {
   "cell_type": "markdown",
   "id": "300ef1bf",
   "metadata": {},
   "source": [
    "From the MSEs, we see that XGBoost and Random Forest Classifiers produces the best results with MSEs of 0.1457 and 0.1512 respectively. "
   ]
  },
  {
   "cell_type": "code",
   "execution_count": 17,
   "id": "b5dda12a",
   "metadata": {},
   "outputs": [
    {
     "data": {
      "text/plain": [
       "0.8488199472839095"
      ]
     },
     "execution_count": 17,
     "metadata": {},
     "output_type": "execute_result"
    }
   ],
   "source": [
    "accuracy_score(y_test, preds_rf)"
   ]
  },
  {
   "cell_type": "code",
   "execution_count": 18,
   "id": "94241f7f",
   "metadata": {},
   "outputs": [
    {
     "data": {
      "text/plain": [
       "0.854273335959039"
      ]
     },
     "execution_count": 18,
     "metadata": {},
     "output_type": "execute_result"
    }
   ],
   "source": [
    "accuracy_score(y_test, xgb_tree_preds)"
   ]
  },
  {
   "cell_type": "code",
   "execution_count": 19,
   "id": "d7a72030",
   "metadata": {},
   "outputs": [
    {
     "name": "stdout",
     "output_type": "stream",
     "text": [
      "              precision    recall  f1-score   support\n",
      "\n",
      "           0       0.87      0.94      0.91     26049\n",
      "           1       0.70      0.49      0.58      6958\n",
      "\n",
      "    accuracy                           0.85     33007\n",
      "   macro avg       0.79      0.72      0.74     33007\n",
      "weighted avg       0.84      0.85      0.84     33007\n",
      "\n"
     ]
    }
   ],
   "source": [
    "print(classification_report(y_test, preds_rf))"
   ]
  },
  {
   "cell_type": "code",
   "execution_count": 20,
   "id": "fde83762",
   "metadata": {},
   "outputs": [
    {
     "name": "stdout",
     "output_type": "stream",
     "text": [
      "              precision    recall  f1-score   support\n",
      "\n",
      "           0       0.88      0.95      0.91     26049\n",
      "           1       0.72      0.51      0.60      6958\n",
      "\n",
      "    accuracy                           0.85     33007\n",
      "   macro avg       0.80      0.73      0.75     33007\n",
      "weighted avg       0.84      0.85      0.84     33007\n",
      "\n"
     ]
    }
   ],
   "source": [
    "print(classification_report(y_test, xgb_tree_preds))"
   ]
  },
  {
   "cell_type": "code",
   "execution_count": 21,
   "id": "4f923b1b",
   "metadata": {},
   "outputs": [],
   "source": [
    "con_m_xgb = confusion_matrix(y_test, xgb_tree_preds)"
   ]
  },
  {
   "cell_type": "code",
   "execution_count": 22,
   "id": "50d33d1c",
   "metadata": {},
   "outputs": [],
   "source": [
    "con_m_rf = confusion_matrix(y_test, preds_rf)"
   ]
  },
  {
   "cell_type": "code",
   "execution_count": 23,
   "id": "1a87cd35",
   "metadata": {},
   "outputs": [],
   "source": [
    "disp = ConfusionMatrixDisplay(con_m_xgb, display_labels=None)"
   ]
  },
  {
   "cell_type": "code",
   "execution_count": 24,
   "id": "b672c324",
   "metadata": {},
   "outputs": [
    {
     "data": {
      "image/png": "[encoded data removed]",
      "text/plain": [
       "<Figure size 640x480 with 2 Axes>"
      ]
     },
     "metadata": {},
     "output_type": "display_data"
    }
   ],
   "source": [
    "disp = ConfusionMatrixDisplay(con_m_rf, display_labels=None)\n",
    "\n",
    "disp.plot(cmap=\"Reds\")\n",
    "\n",
    "plt.title(\"Confusion Matrix RF\")\n",
    "plt.xlabel(\"Predicted\")\n",
    "plt.ylabel(\"Testing\")\n",
    "plt.show()"
   ]
  },
  {
   "cell_type": "code",
   "execution_count": 25,
   "id": "6f3f8bb8",
   "metadata": {},
   "outputs": [
    {
     "data": {
      "image/png": "[encoded data removed]",
      "text/plain": [
       "<Figure size 640x480 with 2 Axes>"
      ]
     },
     "metadata": {},
     "output_type": "display_data"
    }
   ],
   "source": [
    "disp = ConfusionMatrixDisplay(con_m_xgb, display_labels=None)\n",
    "\n",
    "disp.plot(cmap=\"Reds\")\n",
    "\n",
    "plt.title(\"Confusion Matrix RF\")\n",
    "plt.xlabel(\"Predicted\")\n",
    "plt.ylabel(\"Testing\")\n",
    "plt.show()"
   ]
  },
  {
   "cell_type": "code",
   "execution_count": 26,
   "id": "7a58798d",
   "metadata": {},
   "outputs": [
    {
     "data": {
      "text/plain": [
       "0.5798248568541596"
      ]
     },
     "execution_count": 26,
     "metadata": {},
     "output_type": "execute_result"
    }
   ],
   "source": [
    "f1_score(y_test, preds_rf)"
   ]
  },
  {
   "cell_type": "code",
   "execution_count": 27,
   "id": "b77a1188",
   "metadata": {},
   "outputs": [
    {
     "data": {
      "text/plain": [
       "0.5951178451178452"
      ]
     },
     "execution_count": 27,
     "metadata": {},
     "output_type": "execute_result"
    }
   ],
   "source": [
    "f1_score(y_test, xgb_tree_preds)"
   ]
  },
  {
   "cell_type": "markdown",
   "id": "7864e634",
   "metadata": {},
   "source": [
    "From the accuracy scores of 0.8488 and 0.8543, we can see that XGBoost predicted more accurately compared to Random Forest. Even though it was only be a small margin. The confusion matrix further examplifies this claim, where we can see that the True negatives of the XGBoost model is relatively smaller. One similar flaw of both models is the high False Negative rates. This problem can be fixed by tuning the parameters of each model. Similarily, in terms of the f1 scores of 0.5798 and 0.5951, we can see that XGBoost did relatively better than the Random Forest Classifier. Although a score of 0.5951 is still far from ideal, and can most likely improve with some tuning of parameters, due to the class imbalance of the dataset, tuning would most likely still be limited in its ability to improve the score. Due to time constraints, I did not have the opportunity to attempt to tune the models.\n",
    "\n"
   ]
  },
  {
   "cell_type": "code",
   "execution_count": 28,
   "id": "a782b807",
   "metadata": {},
   "outputs": [],
   "source": [
    "# Predict test.csv\n",
    "\n",
    "x_test_actual = df_test[X]\n",
    "\n",
    "result = xgb_tree.predict(x_test_actual)\n",
    "results_df = pd.DataFrame({\"id\": df_test[\"id\"], \"CustomerId\": df_test[\"CustomerId\"], \"Exited\": result})"
   ]
  },
  {
   "cell_type": "code",
   "execution_count": 29,
   "id": "a8629096",
   "metadata": {},
   "outputs": [],
   "source": [
    "results_df.to_csv(\"Test_Exit.csv\", index=False)"
   ]
  }
 ],
 "metadata": {
  "kernelspec": {
   "display_name": "Python 3 (ipykernel)",
   "language": "python",
   "name": "python3"
  },
  "language_info": {
   "codemirror_mode": {
    "name": "ipython",
    "version": 3
   },
   "file_extension": ".py",
   "mimetype": "text/x-python",
   "name": "python",
   "nbconvert_exporter": "python",
   "pygments_lexer": "ipython3",
   "version": "3.11.4"
  }
 },
 "nbformat": 4,
 "nbformat_minor": 5
}
